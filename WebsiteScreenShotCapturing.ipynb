{
 "cells": [
  {
   "cell_type": "code",
   "execution_count": null,
   "metadata": {},
   "outputs": [],
   "source": [
    "! pip install selenium\n",
    "! pip install chromedriver # or geckodriver, or safaridriver"
   ]
  },
  {
   "cell_type": "code",
   "execution_count": null,
   "metadata": {},
   "outputs": [],
   "source": [
    "import numpy as np\n",
    "import pandas as pd"
   ]
  },
  {
   "cell_type": "code",
   "execution_count": null,
   "metadata": {},
   "outputs": [],
   "source": [
    "# data = pd.read_csv('./WebDataCSV/general_2.csv')\n",
    "data = pd.read_csv('./WebDataCSV/personal_2.csv')\n",
    "data"
   ]
  },
  {
   "cell_type": "code",
   "execution_count": null,
   "metadata": {},
   "outputs": [],
   "source": [
    "new_data = pd.DataFrame(data)\n",
    "new_data.rename(columns = {'links_from_channel_desc':'links_col'}, inplace = True)\n",
    "new_data"
   ]
  },
  {
   "cell_type": "code",
   "execution_count": null,
   "metadata": {},
   "outputs": [],
   "source": [
    "links_data = new_data.iloc[:, 2]\n",
    "links_data"
   ]
  },
  {
   "cell_type": "code",
   "execution_count": null,
   "metadata": {},
   "outputs": [],
   "source": [
    "split_array = links_data.str.split(',', expand = True)\n",
    "split_array"
   ]
  },
  {
   "cell_type": "code",
   "execution_count": null,
   "metadata": {},
   "outputs": [],
   "source": [
    "reshape_array = np.reshape(split_array, (1,np.product(split_array.shape)))\n",
    "reshape_array"
   ]
  },
  {
   "cell_type": "code",
   "execution_count": null,
   "metadata": {},
   "outputs": [],
   "source": [
    "reshape_array_pd = reshape_array.reshape(-1)\n",
    "reshape_array_pd = pd.DataFrame(reshape_array_pd)\n",
    "reshape_array_pd"
   ]
  },
  {
   "cell_type": "code",
   "execution_count": null,
   "metadata": {},
   "outputs": [],
   "source": [
    "clean_links_data = reshape_array_pd.dropna()\n",
    "clean_links_data_new = clean_links_data.copy()\n",
    "clean_links_data_new.rename(columns={clean_links_data.columns[0]: 'Links'},inplace=True)\n",
    "clean_links_data_new"
   ]
  },
  {
   "cell_type": "code",
   "execution_count": null,
   "metadata": {},
   "outputs": [],
   "source": [
    "clean_links_data_new.isnull().sum()"
   ]
  },
  {
   "cell_type": "code",
   "execution_count": null,
   "metadata": {},
   "outputs": [],
   "source": [
    "from selenium import webdriver\n",
    "import time\n",
    "\n",
    "# 1. create a web driver instance\n",
    "driver = webdriver.Chrome()\n",
    "\n",
    "# 2. navigate to the website\n",
    "for i in range(0, len(clean_links_data_new)):\n",
    "\n",
    "    try:\n",
    "\n",
    "    # driver.get(clean_links_data.loc['Links'])\n",
    "\n",
    "        driver.get(clean_links_data_new.iloc[i, 0])\n",
    "        print(clean_links_data_new.iloc[i, 0])\n",
    "\n",
    "        time.sleep(5)\n",
    "\n",
    "        # 3. save a screenshot of the current page\n",
    "        driver.save_screenshot(f\"./ScreenShots_Website_Img/personal/personal_{i}.png\")\n",
    "\n",
    "    except:\n",
    "        continue\n",
    "\n",
    "# 4. close the web driver\n",
    "driver.quit()"
   ]
  }
 ],
 "metadata": {
  "kernelspec": {
   "display_name": "Python 3",
   "language": "python",
   "name": "python3"
  },
  "language_info": {
   "codemirror_mode": {
    "name": "ipython",
    "version": 3
   },
   "file_extension": ".py",
   "mimetype": "text/x-python",
   "name": "python",
   "nbconvert_exporter": "python",
   "pygments_lexer": "ipython3",
   "version": "3.10.11"
  },
  "orig_nbformat": 4
 },
 "nbformat": 4,
 "nbformat_minor": 2
}
